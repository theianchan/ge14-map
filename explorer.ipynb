{
 "cells": [
  {
   "cell_type": "code",
   "execution_count": 1,
   "metadata": {
    "scrolled": true
   },
   "outputs": [],
   "source": [
    "import pandas as pd\n",
    "import geopandas as gpd\n",
    "import geojsonio\n",
    "import plotly\n",
    "import config\n",
    "\n",
    "import plotly.plotly as py\n",
    "import plotly.graph_objs as go"
   ]
  },
  {
   "cell_type": "code",
   "execution_count": 2,
   "metadata": {},
   "outputs": [],
   "source": [
    "plotly.tools.set_credentials_file(\n",
    "    username=config.plotly_username, \n",
    "    api_key=config.plotly_api_key)\n",
    "mapbox_access_token = config.mapbox_access_token"
   ]
  },
  {
   "cell_type": "code",
   "execution_count": 3,
   "metadata": {},
   "outputs": [],
   "source": [
    "seats = gpd.read_file(\"data/parliamentary-boundaries-2018-working.geojson\")"
   ]
  },
  {
   "cell_type": "code",
   "execution_count": 4,
   "metadata": {
    "scrolled": true
   },
   "outputs": [
    {
     "data": {
      "text/html": [
       "<div>\n",
       "<style scoped>\n",
       "    .dataframe tbody tr th:only-of-type {\n",
       "        vertical-align: middle;\n",
       "    }\n",
       "\n",
       "    .dataframe tbody tr th {\n",
       "        vertical-align: top;\n",
       "    }\n",
       "\n",
       "    .dataframe thead th {\n",
       "        text-align: right;\n",
       "    }\n",
       "</style>\n",
       "<table border=\"1\" class=\"dataframe\">\n",
       "  <thead>\n",
       "    <tr style=\"text-align: right;\">\n",
       "      <th></th>\n",
       "      <th>KodPAR</th>\n",
       "      <th>Parliament</th>\n",
       "      <th>State</th>\n",
       "      <th>geometry</th>\n",
       "    </tr>\n",
       "  </thead>\n",
       "  <tbody>\n",
       "    <tr>\n",
       "      <th>0</th>\n",
       "      <td>054</td>\n",
       "      <td>GERIK</td>\n",
       "      <td>PERAK</td>\n",
       "      <td>(POLYGON ((100.9933944673964 5.507324842759963...</td>\n",
       "    </tr>\n",
       "    <tr>\n",
       "      <th>1</th>\n",
       "      <td>055</td>\n",
       "      <td>LENGGONG</td>\n",
       "      <td>PERAK</td>\n",
       "      <td>(POLYGON ((100.9293339657613 5.514131158215433...</td>\n",
       "    </tr>\n",
       "    <tr>\n",
       "      <th>2</th>\n",
       "      <td>056</td>\n",
       "      <td>LARUT</td>\n",
       "      <td>PERAK</td>\n",
       "      <td>(POLYGON ((100.8672078753412 5.428777928590932...</td>\n",
       "    </tr>\n",
       "    <tr>\n",
       "      <th>3</th>\n",
       "      <td>058</td>\n",
       "      <td>BAGAN SERAI</td>\n",
       "      <td>PERAK</td>\n",
       "      <td>(POLYGON ((100.6241018705403 5.141014699246791...</td>\n",
       "    </tr>\n",
       "    <tr>\n",
       "      <th>4</th>\n",
       "      <td>057</td>\n",
       "      <td>PARIT BUNTAR</td>\n",
       "      <td>PERAK</td>\n",
       "      <td>(POLYGON ((100.4127561987131 4.992960828699954...</td>\n",
       "    </tr>\n",
       "  </tbody>\n",
       "</table>\n",
       "</div>"
      ],
      "text/plain": [
       "  KodPAR    Parliament  State  \\\n",
       "0    054         GERIK  PERAK   \n",
       "1    055      LENGGONG  PERAK   \n",
       "2    056         LARUT  PERAK   \n",
       "3    058   BAGAN SERAI  PERAK   \n",
       "4    057  PARIT BUNTAR  PERAK   \n",
       "\n",
       "                                            geometry  \n",
       "0  (POLYGON ((100.9933944673964 5.507324842759963...  \n",
       "1  (POLYGON ((100.9293339657613 5.514131158215433...  \n",
       "2  (POLYGON ((100.8672078753412 5.428777928590932...  \n",
       "3  (POLYGON ((100.6241018705403 5.141014699246791...  \n",
       "4  (POLYGON ((100.4127561987131 4.992960828699954...  "
      ]
     },
     "execution_count": 4,
     "metadata": {},
     "output_type": "execute_result"
    }
   ],
   "source": [
    "seats.head()"
   ]
  },
  {
   "cell_type": "code",
   "execution_count": 5,
   "metadata": {},
   "outputs": [],
   "source": [
    "seats_json = seats[:20].to_json()"
   ]
  },
  {
   "cell_type": "code",
   "execution_count": 8,
   "metadata": {},
   "outputs": [],
   "source": [
    "_ = geojsonio.display(seats_json)"
   ]
  },
  {
   "cell_type": "code",
   "execution_count": 9,
   "metadata": {},
   "outputs": [
    {
     "data": {
      "text/html": [
       "<iframe id=\"igraph\" scrolling=\"no\" style=\"border:none;\" seamless=\"seamless\" src=\"https://plot.ly/~theianchan/5.embed\" height=\"600px\" width=\"100%\"></iframe>"
      ],
      "text/plain": [
       "<plotly.tools.PlotlyDisplay object>"
      ]
     },
     "execution_count": 9,
     "metadata": {},
     "output_type": "execute_result"
    }
   ],
   "source": [
    "data = go.Data([\n",
    "    go.Scattermapbox(\n",
    "        lat=['4.0891679'],\n",
    "        lon=['100.5595715'],\n",
    "        mode='markers',\n",
    "    )\n",
    "])\n",
    "layout = go.Layout(\n",
    "    height=600,\n",
    "    autosize=True,\n",
    "    hovermode='closest',\n",
    "    mapbox=dict(\n",
    "        layers=[\n",
    "            dict(\n",
    "                sourcetype = 'geojson',\n",
    "                source = 'data/single.geojson',\n",
    "                type = 'fill',\n",
    "                color = 'rgba(40,0,113,0.8)'\n",
    "            )\n",
    "        ],\n",
    "        accesstoken=mapbox_access_token,\n",
    "        bearing=0,\n",
    "        center=dict(\n",
    "            lat=4.0891679,\n",
    "            lon=100.5595715\n",
    "        ),\n",
    "        pitch=0,\n",
    "        zoom=5.2,\n",
    "        style='light'\n",
    "    ),\n",
    ")\n",
    "\n",
    "fig = dict(data=data, layout=layout)\n",
    "py.iplot(fig, filename='county-level-choropleths-python')"
   ]
  },
  {
   "cell_type": "code",
   "execution_count": 10,
   "metadata": {},
   "outputs": [
    {
     "data": {
      "text/html": [
       "<iframe id=\"igraph\" scrolling=\"no\" style=\"border:none;\" seamless=\"seamless\" src=\"https://plot.ly/~theianchan/5.embed\" height=\"600px\" width=\"100%\"></iframe>"
      ],
      "text/plain": [
       "<plotly.tools.PlotlyDisplay object>"
      ]
     },
     "execution_count": 10,
     "metadata": {},
     "output_type": "execute_result"
    }
   ],
   "source": [
    "data = go.Data([\n",
    "    go.Scattermapbox(\n",
    "        lat=['45.5017'],\n",
    "        lon=['-73.5673'],\n",
    "        mode='markers',\n",
    "    )\n",
    "])\n",
    "layout = go.Layout(\n",
    "    height=600,\n",
    "    autosize=True,\n",
    "    hovermode='closest',\n",
    "    mapbox=dict(\n",
    "        layers=[\n",
    "            dict(\n",
    "                sourcetype = 'geojson',\n",
    "                source = 'data/florida-red-data-original.json',\n",
    "                type = 'fill',\n",
    "                color = 'rgba(163,22,19,0.8)'\n",
    "            )\n",
    "        ],\n",
    "        accesstoken=mapbox_access_token,\n",
    "        bearing=0,\n",
    "        center=dict(\n",
    "            lat=27.8,\n",
    "            lon=-83\n",
    "        ),\n",
    "        pitch=0,\n",
    "        zoom=5.2,\n",
    "        style='light'\n",
    "    ),\n",
    ")\n",
    "\n",
    "fig = dict(data=data, layout=layout)\n",
    "py.iplot(fig, filename='county-level-choropleths-python')"
   ]
  },
  {
   "cell_type": "code",
   "execution_count": null,
   "metadata": {},
   "outputs": [],
   "source": []
  },
  {
   "cell_type": "code",
   "execution_count": null,
   "metadata": {},
   "outputs": [],
   "source": []
  },
  {
   "cell_type": "code",
   "execution_count": null,
   "metadata": {},
   "outputs": [],
   "source": []
  },
  {
   "cell_type": "code",
   "execution_count": null,
   "metadata": {},
   "outputs": [],
   "source": []
  }
 ],
 "metadata": {
  "kernelspec": {
   "display_name": "Python (GE14)",
   "language": "python",
   "name": "ge14"
  },
  "language_info": {
   "codemirror_mode": {
    "name": "ipython",
    "version": 3
   },
   "file_extension": ".py",
   "mimetype": "text/x-python",
   "name": "python",
   "nbconvert_exporter": "python",
   "pygments_lexer": "ipython3",
   "version": "3.6.4"
  }
 },
 "nbformat": 4,
 "nbformat_minor": 2
}
