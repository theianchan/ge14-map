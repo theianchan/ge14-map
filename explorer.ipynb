{
 "cells": [
  {
   "cell_type": "code",
   "execution_count": 1,
   "metadata": {
    "scrolled": true
   },
   "outputs": [],
   "source": [
    "import numpy as np\n",
    "import pandas as pd\n",
    "import geopandas as gpd\n",
    "import geojsonio\n",
    "import config\n",
    "\n",
    "import plotly\n",
    "import plotly.plotly as py\n",
    "import plotly.graph_objs as go"
   ]
  },
  {
   "cell_type": "code",
   "execution_count": 25,
   "metadata": {},
   "outputs": [],
   "source": [
    "ge = pd.read_csv(\"data/election-data-2004-2018.csv\")"
   ]
  },
  {
   "cell_type": "code",
   "execution_count": 139,
   "metadata": {},
   "outputs": [
    {
     "data": {
      "text/html": [
       "<div>\n",
       "<style scoped>\n",
       "    .dataframe tbody tr th:only-of-type {\n",
       "        vertical-align: middle;\n",
       "    }\n",
       "\n",
       "    .dataframe tbody tr th {\n",
       "        vertical-align: top;\n",
       "    }\n",
       "\n",
       "    .dataframe thead th {\n",
       "        text-align: right;\n",
       "    }\n",
       "</style>\n",
       "<table border=\"1\" class=\"dataframe\">\n",
       "  <thead>\n",
       "    <tr style=\"text-align: right;\">\n",
       "      <th></th>\n",
       "      <th>0</th>\n",
       "      <th>1</th>\n",
       "      <th>2</th>\n",
       "    </tr>\n",
       "  </thead>\n",
       "  <tbody>\n",
       "    <tr>\n",
       "      <th>year</th>\n",
       "      <td>2004</td>\n",
       "      <td>2004</td>\n",
       "      <td>2004</td>\n",
       "    </tr>\n",
       "    <tr>\n",
       "      <th>state</th>\n",
       "      <td>Perlis</td>\n",
       "      <td>Perlis</td>\n",
       "      <td>Perlis</td>\n",
       "    </tr>\n",
       "    <tr>\n",
       "      <th>seat_code_no</th>\n",
       "      <td>1</td>\n",
       "      <td>1</td>\n",
       "      <td>2</td>\n",
       "    </tr>\n",
       "    <tr>\n",
       "      <th>seat_code</th>\n",
       "      <td>P1</td>\n",
       "      <td>P1</td>\n",
       "      <td>P2</td>\n",
       "    </tr>\n",
       "    <tr>\n",
       "      <th>seat_name</th>\n",
       "      <td>Padang Besar</td>\n",
       "      <td>Padang Besar</td>\n",
       "      <td>Kangar</td>\n",
       "    </tr>\n",
       "    <tr>\n",
       "      <th>candidate</th>\n",
       "      <td>Datuk Seri Azmi Khalid</td>\n",
       "      <td>Wan Kharizal Wan Khazim</td>\n",
       "      <td>Datuk Radzi Sheikh Ahmad</td>\n",
       "    </tr>\n",
       "    <tr>\n",
       "      <th>party</th>\n",
       "      <td>UMNO</td>\n",
       "      <td>PAS</td>\n",
       "      <td>UMNO</td>\n",
       "    </tr>\n",
       "    <tr>\n",
       "      <th>coalition</th>\n",
       "      <td>BN</td>\n",
       "      <td>Pakatan</td>\n",
       "      <td>BN</td>\n",
       "    </tr>\n",
       "    <tr>\n",
       "      <th>winlose</th>\n",
       "      <td>1</td>\n",
       "      <td>0</td>\n",
       "      <td>1</td>\n",
       "    </tr>\n",
       "    <tr>\n",
       "      <th>is_uncontested</th>\n",
       "      <td>0</td>\n",
       "      <td>0</td>\n",
       "      <td>0</td>\n",
       "    </tr>\n",
       "    <tr>\n",
       "      <th>votes</th>\n",
       "      <td>18322</td>\n",
       "      <td>9058</td>\n",
       "      <td>22498</td>\n",
       "    </tr>\n",
       "    <tr>\n",
       "      <th>majority</th>\n",
       "      <td>9264</td>\n",
       "      <td>-9264</td>\n",
       "      <td>12548</td>\n",
       "    </tr>\n",
       "    <tr>\n",
       "      <th>margin</th>\n",
       "      <td>0.338349</td>\n",
       "      <td>-0.338349</td>\n",
       "      <td>0.386711</td>\n",
       "    </tr>\n",
       "    <tr>\n",
       "      <th>voteshare</th>\n",
       "      <td>0.669175</td>\n",
       "      <td>0.330825</td>\n",
       "      <td>0.693356</td>\n",
       "    </tr>\n",
       "    <tr>\n",
       "      <th>total_eligible</th>\n",
       "      <td>33899</td>\n",
       "      <td>33899</td>\n",
       "      <td>40516</td>\n",
       "    </tr>\n",
       "    <tr>\n",
       "      <th>total_voted</th>\n",
       "      <td>27380</td>\n",
       "      <td>27380</td>\n",
       "      <td>32448</td>\n",
       "    </tr>\n",
       "    <tr>\n",
       "      <th>total_majority</th>\n",
       "      <td>9264</td>\n",
       "      <td>9264</td>\n",
       "      <td>12548</td>\n",
       "    </tr>\n",
       "    <tr>\n",
       "      <th>votes_spoilt</th>\n",
       "      <td>672</td>\n",
       "      <td>672</td>\n",
       "      <td>548</td>\n",
       "    </tr>\n",
       "    <tr>\n",
       "      <th>race_malay</th>\n",
       "      <td>0.84</td>\n",
       "      <td>0.84</td>\n",
       "      <td>0.79</td>\n",
       "    </tr>\n",
       "    <tr>\n",
       "      <th>race_chinese</th>\n",
       "      <td>0.11</td>\n",
       "      <td>0.11</td>\n",
       "      <td>0.18</td>\n",
       "    </tr>\n",
       "    <tr>\n",
       "      <th>race_indian</th>\n",
       "      <td>0.01</td>\n",
       "      <td>0.01</td>\n",
       "      <td>0.02</td>\n",
       "    </tr>\n",
       "    <tr>\n",
       "      <th>race_others</th>\n",
       "      <td>0.03</td>\n",
       "      <td>0.03</td>\n",
       "      <td>0.01</td>\n",
       "    </tr>\n",
       "    <tr>\n",
       "      <th>race_bumi_east_msia</th>\n",
       "      <td>0</td>\n",
       "      <td>0</td>\n",
       "      <td>0</td>\n",
       "    </tr>\n",
       "    <tr>\n",
       "      <th>data_errors</th>\n",
       "      <td>NaN</td>\n",
       "      <td>NaN</td>\n",
       "      <td>NaN</td>\n",
       "    </tr>\n",
       "  </tbody>\n",
       "</table>\n",
       "</div>"
      ],
      "text/plain": [
       "                                          0                        1  \\\n",
       "year                                   2004                     2004   \n",
       "state                                Perlis                   Perlis   \n",
       "seat_code_no                              1                        1   \n",
       "seat_code                                P1                       P1   \n",
       "seat_name                      Padang Besar             Padang Besar   \n",
       "candidate            Datuk Seri Azmi Khalid  Wan Kharizal Wan Khazim   \n",
       "party                                  UMNO                      PAS   \n",
       "coalition                                BN                  Pakatan   \n",
       "winlose                                   1                        0   \n",
       "is_uncontested                            0                        0   \n",
       "votes                                 18322                     9058   \n",
       "majority                               9264                    -9264   \n",
       "margin                             0.338349                -0.338349   \n",
       "voteshare                          0.669175                 0.330825   \n",
       "total_eligible                        33899                    33899   \n",
       "total_voted                           27380                    27380   \n",
       "total_majority                         9264                     9264   \n",
       "votes_spoilt                            672                      672   \n",
       "race_malay                             0.84                     0.84   \n",
       "race_chinese                           0.11                     0.11   \n",
       "race_indian                            0.01                     0.01   \n",
       "race_others                            0.03                     0.03   \n",
       "race_bumi_east_msia                       0                        0   \n",
       "data_errors                             NaN                      NaN   \n",
       "\n",
       "                                            2  \n",
       "year                                     2004  \n",
       "state                                  Perlis  \n",
       "seat_code_no                                2  \n",
       "seat_code                                  P2  \n",
       "seat_name                              Kangar  \n",
       "candidate            Datuk Radzi Sheikh Ahmad  \n",
       "party                                    UMNO  \n",
       "coalition                                  BN  \n",
       "winlose                                     1  \n",
       "is_uncontested                              0  \n",
       "votes                                   22498  \n",
       "majority                                12548  \n",
       "margin                               0.386711  \n",
       "voteshare                            0.693356  \n",
       "total_eligible                          40516  \n",
       "total_voted                             32448  \n",
       "total_majority                          12548  \n",
       "votes_spoilt                              548  \n",
       "race_malay                               0.79  \n",
       "race_chinese                             0.18  \n",
       "race_indian                              0.02  \n",
       "race_others                              0.01  \n",
       "race_bumi_east_msia                         0  \n",
       "data_errors                               NaN  "
      ]
     },
     "execution_count": 139,
     "metadata": {},
     "output_type": "execute_result"
    }
   ],
   "source": [
    "ge.head(3).T"
   ]
  },
  {
   "cell_type": "markdown",
   "metadata": {},
   "source": [
    "1. Get only results from GE14\n",
    "2. Get only winners\n",
    "3. Create winner JSONs for each party"
   ]
  },
  {
   "cell_type": "code",
   "execution_count": 63,
   "metadata": {
    "scrolled": false
   },
   "outputs": [],
   "source": [
    "ge11 = ge[ge[\"year\"] == 2004]\n",
    "ge12 = ge[ge[\"year\"] == 2008]\n",
    "ge13 = ge[ge[\"year\"] == 2013]\n",
    "ge14 = ge[ge[\"year\"] == 2018]"
   ]
  },
  {
   "cell_type": "code",
   "execution_count": 80,
   "metadata": {},
   "outputs": [
    {
     "name": "stdout",
     "output_type": "stream",
     "text": [
      "Competing parties in year 2004:\n",
      "UMNO, PAS, MCA, PKR, Ind, DAP, GERAKAN, PPP, MIC, MDP, IND, PBS, SETIA, UPKO, SAPP, PBRS, LDP, PASOK, SPDP, SNAP, PBB, SUPP, STAR, PBDS\n",
      "\n",
      "Competing parties in year 2008:\n",
      "UMNO, PAS, PKR, MCA, IND, DAP, GERAKAN, PPP, MIC, PRM, PBS, BERSEKUTU, UPKO, SAPP, PASOK, PBRS, LDP, SPDP, SNAP, PBB, SUPP, PRS\n",
      "\n",
      "Competing parties in year 2013:\n",
      "PAS, UMNO, IND, PKR, MCA, BERJASA, BERSAMA, KITA, DAP, PCM, MIC, GERAKAN, PPP, SAPP, STAR, PBS, UPKO, PBRS, LDP, SPDP, PBB, SUPP, PRS, SWP\n",
      "\n",
      "Competing parties in year 2018:\n",
      "UMNO, BERSATU, PAS, PKR, AMANAH, MCA, BEBAS, PRM, DAP, PCM, MU, GERAKAN, PFP, MIC, PSM, BERJASA, IKATAN, MYPPP, PAP, WARISAN, HR, PPRS, PBS, PCS, UPKO, SAPP, ANAKNEGERI, STAR, PBRS, LDP, PDP, PBB, SUPP, PRS, PBDSB, PBK, PEACE\n",
      "\n"
     ]
    }
   ],
   "source": [
    "for year in ge[\"year\"].unique():\n",
    "    ge_year = ge[ge[\"year\"] == year]\n",
    "    parties = ge_year[\"party\"].unique()\n",
    "    print(\"Competing parties in year {}:\\n{}\\n\".format(year, \", \".join(parties)))"
   ]
  },
  {
   "cell_type": "code",
   "execution_count": 128,
   "metadata": {},
   "outputs": [],
   "source": [
    "ge14_seats_won = ge14[ge14[\"winlose\"] == 1]"
   ]
  },
  {
   "cell_type": "code",
   "execution_count": 130,
   "metadata": {},
   "outputs": [],
   "source": [
    "ge14_seats_bn = ge14_seats_won[ge14_seats_won[\"coalition\"] == \"BN\"]\n",
    "ge14_seats_ph = ge14_seats_won[ge14_seats_won[\"coalition\"] == \"Pakatan\"]\n",
    "ge14_seats_gs = ge14_seats_won[ge14_seats_won[\"coalition\"] == \"PAS\"]"
   ]
  },
  {
   "cell_type": "code",
   "execution_count": 160,
   "metadata": {},
   "outputs": [
    {
     "data": {
      "text/plain": [
       "1503    1\n",
       "1509    3\n",
       "1521    7\n",
       "Name: seat_code_no, dtype: int64"
      ]
     },
     "execution_count": 160,
     "metadata": {},
     "output_type": "execute_result"
    }
   ],
   "source": [
    "ge14_seats_bn[\"seat_code_no\"][:3]"
   ]
  },
  {
   "cell_type": "code",
   "execution_count": 146,
   "metadata": {},
   "outputs": [],
   "source": [
    "ge14_geo = gpd.read_file(\"data/parliamentary-boundaries-2018-working.geojson\")"
   ]
  },
  {
   "cell_type": "code",
   "execution_count": 148,
   "metadata": {},
   "outputs": [
    {
     "data": {
      "text/html": [
       "<div>\n",
       "<style scoped>\n",
       "    .dataframe tbody tr th:only-of-type {\n",
       "        vertical-align: middle;\n",
       "    }\n",
       "\n",
       "    .dataframe tbody tr th {\n",
       "        vertical-align: top;\n",
       "    }\n",
       "\n",
       "    .dataframe thead th {\n",
       "        text-align: right;\n",
       "    }\n",
       "</style>\n",
       "<table border=\"1\" class=\"dataframe\">\n",
       "  <thead>\n",
       "    <tr style=\"text-align: right;\">\n",
       "      <th></th>\n",
       "      <th>KodPAR</th>\n",
       "      <th>Parliament</th>\n",
       "      <th>State</th>\n",
       "      <th>geometry</th>\n",
       "    </tr>\n",
       "  </thead>\n",
       "  <tbody>\n",
       "    <tr>\n",
       "      <th>0</th>\n",
       "      <td>054</td>\n",
       "      <td>GERIK</td>\n",
       "      <td>PERAK</td>\n",
       "      <td>(POLYGON ((100.9933944673964 5.507324842759963...</td>\n",
       "    </tr>\n",
       "    <tr>\n",
       "      <th>1</th>\n",
       "      <td>055</td>\n",
       "      <td>LENGGONG</td>\n",
       "      <td>PERAK</td>\n",
       "      <td>(POLYGON ((100.9293339657613 5.514131158215433...</td>\n",
       "    </tr>\n",
       "    <tr>\n",
       "      <th>2</th>\n",
       "      <td>056</td>\n",
       "      <td>LARUT</td>\n",
       "      <td>PERAK</td>\n",
       "      <td>(POLYGON ((100.8672078753412 5.428777928590932...</td>\n",
       "    </tr>\n",
       "    <tr>\n",
       "      <th>3</th>\n",
       "      <td>058</td>\n",
       "      <td>BAGAN SERAI</td>\n",
       "      <td>PERAK</td>\n",
       "      <td>(POLYGON ((100.6241018705403 5.141014699246791...</td>\n",
       "    </tr>\n",
       "    <tr>\n",
       "      <th>4</th>\n",
       "      <td>057</td>\n",
       "      <td>PARIT BUNTAR</td>\n",
       "      <td>PERAK</td>\n",
       "      <td>(POLYGON ((100.4127561987131 4.992960828699954...</td>\n",
       "    </tr>\n",
       "  </tbody>\n",
       "</table>\n",
       "</div>"
      ],
      "text/plain": [
       "  KodPAR    Parliament  State  \\\n",
       "0    054         GERIK  PERAK   \n",
       "1    055      LENGGONG  PERAK   \n",
       "2    056         LARUT  PERAK   \n",
       "3    058   BAGAN SERAI  PERAK   \n",
       "4    057  PARIT BUNTAR  PERAK   \n",
       "\n",
       "                                            geometry  \n",
       "0  (POLYGON ((100.9933944673964 5.507324842759963...  \n",
       "1  (POLYGON ((100.9293339657613 5.514131158215433...  \n",
       "2  (POLYGON ((100.8672078753412 5.428777928590932...  \n",
       "3  (POLYGON ((100.6241018705403 5.141014699246791...  \n",
       "4  (POLYGON ((100.4127561987131 4.992960828699954...  "
      ]
     },
     "execution_count": 148,
     "metadata": {},
     "output_type": "execute_result"
    }
   ],
   "source": [
    "ge14_geo.head()"
   ]
  },
  {
   "cell_type": "code",
   "execution_count": 155,
   "metadata": {},
   "outputs": [],
   "source": [
    "ge14_geo[\"KodPAR\"] = pd.to_numeric(ge14_geo[\"KodPAR\"])"
   ]
  },
  {
   "cell_type": "code",
   "execution_count": 168,
   "metadata": {},
   "outputs": [],
   "source": [
    "ge14_geo_bn = ge14_geo[ge14_geo[\"KodPAR\"].isin(ge14_seats_bn[\"seat_code_no\"])]\n",
    "ge14_geo_ph = ge14_geo[ge14_geo[\"KodPAR\"].isin(ge14_seats_ph[\"seat_code_no\"])]\n",
    "ge14_geo_gs = ge14_geo[ge14_geo[\"KodPAR\"].isin(ge14_seats_gs[\"seat_code_no\"])]"
   ]
  },
  {
   "cell_type": "code",
   "execution_count": 172,
   "metadata": {},
   "outputs": [
    {
     "data": {
      "text/html": [
       "<div>\n",
       "<style scoped>\n",
       "    .dataframe tbody tr th:only-of-type {\n",
       "        vertical-align: middle;\n",
       "    }\n",
       "\n",
       "    .dataframe tbody tr th {\n",
       "        vertical-align: top;\n",
       "    }\n",
       "\n",
       "    .dataframe thead th {\n",
       "        text-align: right;\n",
       "    }\n",
       "</style>\n",
       "<table border=\"1\" class=\"dataframe\">\n",
       "  <thead>\n",
       "    <tr style=\"text-align: right;\">\n",
       "      <th></th>\n",
       "      <th>KodPAR</th>\n",
       "      <th>Parliament</th>\n",
       "      <th>State</th>\n",
       "      <th>geometry</th>\n",
       "    </tr>\n",
       "  </thead>\n",
       "  <tbody>\n",
       "    <tr>\n",
       "      <th>0</th>\n",
       "      <td>54</td>\n",
       "      <td>GERIK</td>\n",
       "      <td>PERAK</td>\n",
       "      <td>(POLYGON ((100.9933944673964 5.507324842759963...</td>\n",
       "    </tr>\n",
       "    <tr>\n",
       "      <th>1</th>\n",
       "      <td>55</td>\n",
       "      <td>LENGGONG</td>\n",
       "      <td>PERAK</td>\n",
       "      <td>(POLYGON ((100.9293339657613 5.514131158215433...</td>\n",
       "    </tr>\n",
       "    <tr>\n",
       "      <th>2</th>\n",
       "      <td>56</td>\n",
       "      <td>LARUT</td>\n",
       "      <td>PERAK</td>\n",
       "      <td>(POLYGON ((100.8672078753412 5.428777928590932...</td>\n",
       "    </tr>\n",
       "    <tr>\n",
       "      <th>3</th>\n",
       "      <td>58</td>\n",
       "      <td>BAGAN SERAI</td>\n",
       "      <td>PERAK</td>\n",
       "      <td>(POLYGON ((100.6241018705403 5.141014699246791...</td>\n",
       "    </tr>\n",
       "    <tr>\n",
       "      <th>6</th>\n",
       "      <td>61</td>\n",
       "      <td>PADANG RENGAS</td>\n",
       "      <td>PERAK</td>\n",
       "      <td>(POLYGON ((100.8067462782922 4.85724527156128,...</td>\n",
       "    </tr>\n",
       "  </tbody>\n",
       "</table>\n",
       "</div>"
      ],
      "text/plain": [
       "   KodPAR     Parliament  State  \\\n",
       "0      54          GERIK  PERAK   \n",
       "1      55       LENGGONG  PERAK   \n",
       "2      56          LARUT  PERAK   \n",
       "3      58    BAGAN SERAI  PERAK   \n",
       "6      61  PADANG RENGAS  PERAK   \n",
       "\n",
       "                                            geometry  \n",
       "0  (POLYGON ((100.9933944673964 5.507324842759963...  \n",
       "1  (POLYGON ((100.9293339657613 5.514131158215433...  \n",
       "2  (POLYGON ((100.8672078753412 5.428777928590932...  \n",
       "3  (POLYGON ((100.6241018705403 5.141014699246791...  \n",
       "6  (POLYGON ((100.8067462782922 4.85724527156128,...  "
      ]
     },
     "execution_count": 172,
     "metadata": {},
     "output_type": "execute_result"
    }
   ],
   "source": [
    "ge14_geo_bn.head()"
   ]
  },
  {
   "cell_type": "code",
   "execution_count": 175,
   "metadata": {},
   "outputs": [],
   "source": [
    "with open (\"data/ge14-geo-bn.geojson\", \"w\") as f:\n",
    "    f.write(ge14_geo_bn.to_json())"
   ]
  },
  {
   "cell_type": "code",
   "execution_count": null,
   "metadata": {},
   "outputs": [],
   "source": [
    "with open (\"data/ge14-geo-ph.geojson\", \"w\") as f:\n",
    "    f.write(ge14_geo_ph.to_json())"
   ]
  },
  {
   "cell_type": "code",
   "execution_count": null,
   "metadata": {},
   "outputs": [],
   "source": [
    "with open (\"data/ge14-geo-gs.geojson\", \"w\") as f:\n",
    "    f.write(ge14_geo_gs.to_json())"
   ]
  },
  {
   "cell_type": "code",
   "execution_count": null,
   "metadata": {},
   "outputs": [],
   "source": []
  },
  {
   "cell_type": "code",
   "execution_count": null,
   "metadata": {},
   "outputs": [],
   "source": []
  },
  {
   "cell_type": "code",
   "execution_count": null,
   "metadata": {},
   "outputs": [],
   "source": []
  },
  {
   "cell_type": "code",
   "execution_count": null,
   "metadata": {},
   "outputs": [],
   "source": []
  },
  {
   "cell_type": "code",
   "execution_count": 2,
   "metadata": {},
   "outputs": [],
   "source": [
    "plotly.tools.set_credentials_file(\n",
    "    username=config.plotly_username, \n",
    "    api_key=config.plotly_api_key)\n",
    "mapbox_access_token = config.mapbox_access_token"
   ]
  },
  {
   "cell_type": "code",
   "execution_count": null,
   "metadata": {},
   "outputs": [],
   "source": [
    "# seats = gpd.read_file(\"data/parliamentary-boundaries-2018-working.geojson\")"
   ]
  },
  {
   "cell_type": "code",
   "execution_count": null,
   "metadata": {},
   "outputs": [],
   "source": [
    "# seats.head()"
   ]
  },
  {
   "cell_type": "code",
   "execution_count": 17,
   "metadata": {},
   "outputs": [],
   "source": [
    "west_malaysia = dict(\n",
    "    lat=4.0891679,\n",
    "    lon=100.5595715\n",
    ")"
   ]
  },
  {
   "cell_type": "code",
   "execution_count": 22,
   "metadata": {},
   "outputs": [],
   "source": [
    "all_data_url = \"https://raw.githubusercontent.com/theianchan/ge14-map/master/data/parliamentary-boundaries-2018-working.geojson\""
   ]
  },
  {
   "cell_type": "code",
   "execution_count": 24,
   "metadata": {},
   "outputs": [
    {
     "ename": "KeyError",
     "evalue": "'data'",
     "output_type": "error",
     "traceback": [
      "\u001b[0;31m---------------------------------------------------------------------------\u001b[0m",
      "\u001b[0;31mKeyError\u001b[0m                                  Traceback (most recent call last)",
      "\u001b[0;32m<ipython-input-24-38563122f59c>\u001b[0m in \u001b[0;36m<module>\u001b[0;34m()\u001b[0m\n\u001b[1;32m     32\u001b[0m \u001b[0;34m\u001b[0m\u001b[0m\n\u001b[1;32m     33\u001b[0m \u001b[0mfig\u001b[0m \u001b[0;34m=\u001b[0m \u001b[0mdict\u001b[0m\u001b[0;34m(\u001b[0m\u001b[0mlayout\u001b[0m\u001b[0;34m=\u001b[0m\u001b[0mlayout\u001b[0m\u001b[0;34m)\u001b[0m\u001b[0;34m\u001b[0m\u001b[0m\n\u001b[0;32m---> 34\u001b[0;31m \u001b[0mpy\u001b[0m\u001b[0;34m.\u001b[0m\u001b[0miplot\u001b[0m\u001b[0;34m(\u001b[0m\u001b[0mfig\u001b[0m\u001b[0;34m,\u001b[0m \u001b[0mfilename\u001b[0m\u001b[0;34m=\u001b[0m\u001b[0;34m\"Prototype\"\u001b[0m\u001b[0;34m)\u001b[0m\u001b[0;34m\u001b[0m\u001b[0m\n\u001b[0m",
      "\u001b[0;32m~/.virtualenvs/ge14/lib/python3.6/site-packages/plotly/plotly/plotly.py\u001b[0m in \u001b[0;36miplot\u001b[0;34m(figure_or_data, **plot_options)\u001b[0m\n\u001b[1;32m    138\u001b[0m     \u001b[0;32mif\u001b[0m \u001b[0;34m'auto_open'\u001b[0m \u001b[0;32mnot\u001b[0m \u001b[0;32min\u001b[0m \u001b[0mplot_options\u001b[0m\u001b[0;34m:\u001b[0m\u001b[0;34m\u001b[0m\u001b[0m\n\u001b[1;32m    139\u001b[0m         \u001b[0mplot_options\u001b[0m\u001b[0;34m[\u001b[0m\u001b[0;34m'auto_open'\u001b[0m\u001b[0;34m]\u001b[0m \u001b[0;34m=\u001b[0m \u001b[0;32mFalse\u001b[0m\u001b[0;34m\u001b[0m\u001b[0m\n\u001b[0;32m--> 140\u001b[0;31m     \u001b[0murl\u001b[0m \u001b[0;34m=\u001b[0m \u001b[0mplot\u001b[0m\u001b[0;34m(\u001b[0m\u001b[0mfigure_or_data\u001b[0m\u001b[0;34m,\u001b[0m \u001b[0;34m**\u001b[0m\u001b[0mplot_options\u001b[0m\u001b[0;34m)\u001b[0m\u001b[0;34m\u001b[0m\u001b[0m\n\u001b[0m\u001b[1;32m    141\u001b[0m \u001b[0;34m\u001b[0m\u001b[0m\n\u001b[1;32m    142\u001b[0m     \u001b[0;32mif\u001b[0m \u001b[0misinstance\u001b[0m\u001b[0;34m(\u001b[0m\u001b[0mfigure_or_data\u001b[0m\u001b[0;34m,\u001b[0m \u001b[0mdict\u001b[0m\u001b[0;34m)\u001b[0m\u001b[0;34m:\u001b[0m\u001b[0;34m\u001b[0m\u001b[0m\n",
      "\u001b[0;32m~/.virtualenvs/ge14/lib/python3.6/site-packages/plotly/plotly/plotly.py\u001b[0m in \u001b[0;36mplot\u001b[0;34m(figure_or_data, validate, **plot_options)\u001b[0m\n\u001b[1;32m    199\u001b[0m \u001b[0;34m\u001b[0m\u001b[0m\n\u001b[1;32m    200\u001b[0m     \"\"\"\n\u001b[0;32m--> 201\u001b[0;31m     \u001b[0mfigure\u001b[0m \u001b[0;34m=\u001b[0m \u001b[0mtools\u001b[0m\u001b[0;34m.\u001b[0m\u001b[0mreturn_figure_from_figure_or_data\u001b[0m\u001b[0;34m(\u001b[0m\u001b[0mfigure_or_data\u001b[0m\u001b[0;34m,\u001b[0m \u001b[0mvalidate\u001b[0m\u001b[0;34m)\u001b[0m\u001b[0;34m\u001b[0m\u001b[0m\n\u001b[0m\u001b[1;32m    202\u001b[0m     \u001b[0;32mfor\u001b[0m \u001b[0mentry\u001b[0m \u001b[0;32min\u001b[0m \u001b[0mfigure\u001b[0m\u001b[0;34m[\u001b[0m\u001b[0;34m'data'\u001b[0m\u001b[0;34m]\u001b[0m\u001b[0;34m:\u001b[0m\u001b[0;34m\u001b[0m\u001b[0m\n\u001b[1;32m    203\u001b[0m         \u001b[0;32mif\u001b[0m \u001b[0;34m(\u001b[0m\u001b[0;34m'type'\u001b[0m \u001b[0;32min\u001b[0m \u001b[0mentry\u001b[0m\u001b[0;34m)\u001b[0m \u001b[0;32mand\u001b[0m \u001b[0;34m(\u001b[0m\u001b[0mentry\u001b[0m\u001b[0;34m[\u001b[0m\u001b[0;34m'type'\u001b[0m\u001b[0;34m]\u001b[0m \u001b[0;34m==\u001b[0m \u001b[0;34m'scattergl'\u001b[0m\u001b[0;34m)\u001b[0m\u001b[0;34m:\u001b[0m\u001b[0;34m\u001b[0m\u001b[0m\n",
      "\u001b[0;32m~/.virtualenvs/ge14/lib/python3.6/site-packages/plotly/tools.py\u001b[0m in \u001b[0;36mreturn_figure_from_figure_or_data\u001b[0;34m(figure_or_data, validate_figure)\u001b[0m\n\u001b[1;32m   1469\u001b[0m                                          \u001b[0;34m\"seeing this error:\\n\\n{0}\"\u001b[0m\u001b[0;34m\u001b[0m\u001b[0m\n\u001b[1;32m   1470\u001b[0m                                          \"\".format(err))\n\u001b[0;32m-> 1471\u001b[0;31m         \u001b[0;32mif\u001b[0m \u001b[0;32mnot\u001b[0m \u001b[0mfigure\u001b[0m\u001b[0;34m[\u001b[0m\u001b[0;34m'data'\u001b[0m\u001b[0;34m]\u001b[0m\u001b[0;34m:\u001b[0m\u001b[0;34m\u001b[0m\u001b[0m\n\u001b[0m\u001b[1;32m   1472\u001b[0m             raise exceptions.PlotlyEmptyDataError(\n\u001b[1;32m   1473\u001b[0m                 \u001b[0;34m\"Empty data list found. Make sure that you populated the \"\u001b[0m\u001b[0;34m\u001b[0m\u001b[0m\n",
      "\u001b[0;31mKeyError\u001b[0m: 'data'"
     ]
    }
   ],
   "source": [
    "data = go.Data([\n",
    "    go.Scattermapbox(\n",
    "        lat=west_malaysia[\"lat\"],\n",
    "        lon=west_malaysia[\"lon\"],\n",
    "        mode='markers',\n",
    "    )\n",
    "])\n",
    "layout = go.Layout(\n",
    "    height=600,\n",
    "    autosize=True,\n",
    "    hovermode=\"closest\",\n",
    "    mapbox=dict(\n",
    "        layers=[\n",
    "            dict(\n",
    "                sourcetype=\"geojson\",\n",
    "                source=all_data_url,\n",
    "                type=\"fill\",\n",
    "                color=\"rgba(40,0,113,0.8)\"\n",
    "            )\n",
    "        ],\n",
    "        accesstoken=mapbox_access_token,\n",
    "        bearing=0,\n",
    "        center=dict(\n",
    "            lat=west_malaysia[\"lat\"],\n",
    "            lon=west_malaysia[\"lon\"],\n",
    "        ),\n",
    "        pitch=0,\n",
    "        zoom=5.2,\n",
    "        style=\"light\"\n",
    "    ),\n",
    ")\n",
    "\n",
    "fig = dict(data=data, layout=layout)\n",
    "py.iplot(fig, filename=\"Prototype\")"
   ]
  },
  {
   "cell_type": "code",
   "execution_count": null,
   "metadata": {},
   "outputs": [],
   "source": []
  },
  {
   "cell_type": "code",
   "execution_count": null,
   "metadata": {},
   "outputs": [],
   "source": []
  },
  {
   "cell_type": "code",
   "execution_count": null,
   "metadata": {},
   "outputs": [],
   "source": []
  },
  {
   "cell_type": "code",
   "execution_count": null,
   "metadata": {},
   "outputs": [],
   "source": []
  }
 ],
 "metadata": {
  "kernelspec": {
   "display_name": "Python (GE14)",
   "language": "python",
   "name": "ge14"
  },
  "language_info": {
   "codemirror_mode": {
    "name": "ipython",
    "version": 3
   },
   "file_extension": ".py",
   "mimetype": "text/x-python",
   "name": "python",
   "nbconvert_exporter": "python",
   "pygments_lexer": "ipython3",
   "version": "3.6.4"
  }
 },
 "nbformat": 4,
 "nbformat_minor": 2
}
