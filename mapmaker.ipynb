{
 "cells": [
  {
   "cell_type": "code",
   "execution_count": 1,
   "metadata": {},
   "outputs": [],
   "source": [
    "%matplotlib inline\n",
    "\n",
    "import numpy as np\n",
    "import pandas as pd\n",
    "import config\n",
    "import imageio\n",
    "\n",
    "import plotly\n",
    "import plotly.plotly as py\n",
    "import plotly.graph_objs as go"
   ]
  },
  {
   "cell_type": "code",
   "execution_count": 2,
   "metadata": {},
   "outputs": [],
   "source": [
    "mapbox_access_token = config.mapbox_access_token\n",
    "plotly.tools.set_credentials_file(username=config.plotly_username, api_key=config.plotly_api_key)"
   ]
  },
  {
   "cell_type": "code",
   "execution_count": 3,
   "metadata": {},
   "outputs": [],
   "source": [
    "ge = pd.read_csv('data/election-data-2004-2018.csv')"
   ]
  },
  {
   "cell_type": "markdown",
   "metadata": {},
   "source": [
    "Same changes as in `explorer.ipynb`."
   ]
  },
  {
   "cell_type": "code",
   "execution_count": 4,
   "metadata": {},
   "outputs": [],
   "source": [
    "ge.at[849, 'winlose'] = 0\n",
    "ge['coalition'].fillna('Unaffiliated', inplace=True)"
   ]
  },
  {
   "cell_type": "code",
   "execution_count": 5,
   "metadata": {},
   "outputs": [],
   "source": [
    "years = ge['year'].unique()\n",
    "coals = ge['coalition'].unique()\n",
    "states = ge['state'].unique()"
   ]
  },
  {
   "cell_type": "code",
   "execution_count": 6,
   "metadata": {},
   "outputs": [
    {
     "data": {
      "text/plain": [
       "array(['BN', 'Pakatan', 'Unaffiliated', 'PAS'], dtype=object)"
      ]
     },
     "execution_count": 6,
     "metadata": {},
     "output_type": "execute_result"
    }
   ],
   "source": [
    "coals"
   ]
  },
  {
   "cell_type": "code",
   "execution_count": 7,
   "metadata": {},
   "outputs": [],
   "source": [
    "coal_colors = dict(\n",
    "    BN='rgba(9, 39, 129, 0.5)', \n",
    "    Pakatan='rgba(237, 28, 36, 0.5)', \n",
    "    PAS='rgba(0, 136, 0, 0.5)',\n",
    "    Unaffiliated='rgba(26, 26, 26, 0.5)'\n",
    ")"
   ]
  },
  {
   "cell_type": "code",
   "execution_count": 68,
   "metadata": {},
   "outputs": [],
   "source": [
    "geo = dict(\n",
    "    malaysia=dict(\n",
    "        lat=4.127928, lon=110.120693, zoom=4.8),\n",
    "    west_malaysia=dict(\n",
    "        lat=4.127928, lon=101.709438, zoom=6.0),\n",
    "#     perlis=dict(\n",
    "#         lat=6.490206, lon=100.105001, zoom=2.0),\n",
    "#     kedah=dict(\n",
    "#         lat=5.810463, lon=99.8142927, zoom=2.0),\n",
    "#     kelantan = dict(\n",
    "#         lat=5.395310, lon=101.439472, zoom=2.0),\n",
    "#     terengganu = dict(\n",
    "#         lat=4.922274, lon=102.474374, zoom=2.0),\n",
    "#     penang = dict(\n",
    "#         lat=5.353988, lon=100.222916, zoom=2.0),\n",
    "#     perak = dict(\n",
    "#         lat=4.800220, lon=99.9356662, zoom=2.0),\n",
    "#     pahang = dict(\n",
    "#         lat=3.618645, lon=101.656548, zoom=2.0),\n",
    "#     selangor = dict(\n",
    "#         lat=3.232068, lon=100.820492, zoom=2.0),\n",
    "#     wp_kuala_lumpur = dict(\n",
    "#         lat=3.138503, lon=101.616949, zoom=2.0),\n",
    "#     wp_putrajaya = dict(\n",
    "#         lat=2.926361, lon=101.661425, zoom=2.0),\n",
    "#     negeri_sembilan = dict(\n",
    "#         lat=2.839789, lon=101.921915, zoom=2.0),\n",
    "#     melaka = dict(\n",
    "#         lat=2.237377, lon=102.181463, zoom=2.0),\n",
    "#     johor = dict(\n",
    "#         lat=2.049175, lon=102.949493, zoom=2.0),\n",
    "#     wp_labuan = dict(\n",
    "#         lat=5.316768, lon=115.142799, zoom=2.0),\n",
    "#     sabah = dict(\n",
    "#         lat=5.738876, lon=116.183216, zoom=2.0),\n",
    "#     sarawak = dict(\n",
    "#         lat=2.915459, lon=110.363620, zoom=2.0)\n",
    ")"
   ]
  },
  {
   "cell_type": "code",
   "execution_count": 69,
   "metadata": {},
   "outputs": [],
   "source": [
    "py.iplot(get_map(2018, 'perlis'), filename='ge-2018-perlis')"
   ]
  },
  {
   "cell_type": "code",
   "execution_count": 70,
   "metadata": {},
   "outputs": [],
   "source": [
    "def map_data_layout(year, area):    \n",
    "    lat = geo[area]['lat']\n",
    "    lon = geo[area]['lon']\n",
    "    key = 'malaysia' if (area is 'west_malaysia') else str(area)\n",
    "    zoom = geo[area]['zoom']\n",
    "    \n",
    "    data = go.Data([go.Scattermapbox(lat=lat, lon=lon, mode='markers')])\n",
    "    layout = go.Layout(\n",
    "        height=800, width=1100, autosize=False, hovermode=False,\n",
    "        margin=go.Margin(l=0, r=0, b=0, t=0, pad=0),\n",
    "        mapbox=dict(\n",
    "            layers=[{\n",
    "                'source': f'https://raw.githubusercontent.com/theianchan/ge14-map/master/data/ge-{str(year)}-{coal.lower()}-{key}.geojson',\n",
    "                'sourcetype': 'geojson',\n",
    "                'type': 'fill',\n",
    "                'color': coal_colors[coal]\n",
    "            } for coal in coals],\n",
    "            accesstoken=mapbox_access_token,\n",
    "            bearing=0,\n",
    "            center=dict(lat=lat, lon=lon),\n",
    "            zoom=zoom,\n",
    "            style='light',\n",
    "            pitch=0\n",
    "        )\n",
    "    )\n",
    "    return data, layout"
   ]
  },
  {
   "cell_type": "code",
   "execution_count": 71,
   "metadata": {},
   "outputs": [],
   "source": [
    "def get_map(year, area, display=True, save=True):\n",
    "    data, layout = map_data_layout(year, area)\n",
    "    if save:\n",
    "        fname = f'maps/ge-{str(year)}-{str(area)}.png'\n",
    "        py.image.save_as(go.Figure(data=data, layout=layout), filename=fname)\n",
    "        print(f'Saved {fname}.')\n",
    "    if display:\n",
    "        return dict(data=data, layout=layout)"
   ]
  },
  {
   "cell_type": "markdown",
   "metadata": {},
   "source": [
    "# All"
   ]
  },
  {
   "cell_type": "code",
   "execution_count": null,
   "metadata": {},
   "outputs": [],
   "source": [
    "py.iplot(get_map(2018, 'malaysia'), filename='ge-2018-malaysia')"
   ]
  },
  {
   "cell_type": "markdown",
   "metadata": {},
   "source": [
    "# West Malaysia"
   ]
  },
  {
   "cell_type": "code",
   "execution_count": null,
   "metadata": {},
   "outputs": [],
   "source": [
    "py.iplot(get_map(2018, 'west_malaysia'), filename='ge-2018-west_malaysia')"
   ]
  },
  {
   "cell_type": "markdown",
   "metadata": {},
   "source": [
    "# States"
   ]
  },
  {
   "cell_type": "code",
   "execution_count": null,
   "metadata": {},
   "outputs": [],
   "source": [
    "for year in years:\n",
    "    for g in geo:\n",
    "        get_map(year, g, display=False)"
   ]
  },
  {
   "cell_type": "markdown",
   "metadata": {},
   "source": [
    "## GIFs"
   ]
  },
  {
   "cell_type": "code",
   "execution_count": 83,
   "metadata": {},
   "outputs": [
    {
     "name": "stdout",
     "output_type": "stream",
     "text": [
      "Saved gifs/ge-malaysia.gif.\n",
      "Saved gifs/ge-west_malaysia.gif.\n"
     ]
    }
   ],
   "source": [
    "for g in geo:\n",
    "    frames = []\n",
    "    for year in years:\n",
    "        frames.append(imageio.imread(f'maps/ge-{str(year)}-{str(g)}.png'))\n",
    "    fname = f'gifs/ge-{str(g)}.gif'\n",
    "    imageio.mimwrite(fname, frames, 'GIF', duration=2)\n",
    "    print(f'Saved {fname}.')"
   ]
  }
 ],
 "metadata": {
  "kernelspec": {
   "display_name": "Python (GE14)",
   "language": "python",
   "name": "ge14"
  },
  "language_info": {
   "codemirror_mode": {
    "name": "ipython",
    "version": 3
   },
   "file_extension": ".py",
   "mimetype": "text/x-python",
   "name": "python",
   "nbconvert_exporter": "python",
   "pygments_lexer": "ipython3",
   "version": "3.6.4"
  }
 },
 "nbformat": 4,
 "nbformat_minor": 2
}
