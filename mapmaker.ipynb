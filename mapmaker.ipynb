{
 "cells": [
  {
   "cell_type": "markdown",
   "metadata": {},
   "source": [
    "Remaining TODO:\n",
    "\n",
    "1. Add titles\n",
    "2. Determine correct `zoom` values for each state\n",
    "3. Run GIFmaker for all"
   ]
  },
  {
   "cell_type": "code",
   "execution_count": 1,
   "metadata": {},
   "outputs": [],
   "source": [
    "%matplotlib inline\n",
    "\n",
    "import numpy as np\n",
    "import pandas as pd\n",
    "import config\n",
    "import imageio\n",
    "\n",
    "import plotly\n",
    "import plotly.plotly as py\n",
    "import plotly.graph_objs as go\n",
    "\n",
    "from PIL import Image, ImageFont, ImageDraw"
   ]
  },
  {
   "cell_type": "code",
   "execution_count": 2,
   "metadata": {},
   "outputs": [],
   "source": [
    "mapbox_access_token = config.mapbox_access_token\n",
    "plotly.tools.set_credentials_file(username=config.plotly_username, api_key=config.plotly_api_key)"
   ]
  },
  {
   "cell_type": "code",
   "execution_count": 3,
   "metadata": {},
   "outputs": [],
   "source": [
    "ge = pd.read_csv('data/election-data-2004-2018.csv')"
   ]
  },
  {
   "cell_type": "markdown",
   "metadata": {},
   "source": [
    "Same changes as in `explorer.ipynb`."
   ]
  },
  {
   "cell_type": "code",
   "execution_count": 4,
   "metadata": {},
   "outputs": [],
   "source": [
    "ge.at[849, 'winlose'] = 0\n",
    "ge['coalition'].fillna('Unaffiliated', inplace=True)"
   ]
  },
  {
   "cell_type": "code",
   "execution_count": 5,
   "metadata": {},
   "outputs": [],
   "source": [
    "years = ge['year'].unique()\n",
    "coals = ge['coalition'].unique()\n",
    "states = ge['state'].unique()"
   ]
  },
  {
   "cell_type": "code",
   "execution_count": 6,
   "metadata": {},
   "outputs": [
    {
     "data": {
      "text/plain": [
       "array(['BN', 'Pakatan', 'Unaffiliated', 'PAS'], dtype=object)"
      ]
     },
     "execution_count": 6,
     "metadata": {},
     "output_type": "execute_result"
    }
   ],
   "source": [
    "coals"
   ]
  },
  {
   "cell_type": "code",
   "execution_count": 7,
   "metadata": {},
   "outputs": [],
   "source": [
    "coal_colors = dict(\n",
    "    BN='rgba(9, 39, 129, 0.5)', \n",
    "    Pakatan='rgba(237, 28, 36, 0.5)', \n",
    "    PAS='rgba(0, 136, 0, 0.5)',\n",
    "    Unaffiliated='rgba(26, 26, 26, 0.5)'\n",
    ")"
   ]
  },
  {
   "cell_type": "code",
   "execution_count": 8,
   "metadata": {},
   "outputs": [],
   "source": [
    "def map_data_layout(year, area):    \n",
    "    lat = geo[area]['lat']\n",
    "    lon = geo[area]['lon']\n",
    "    key = 'malaysia' if (area is 'west_malaysia') else str(area)\n",
    "    zoom = geo[area]['zoom']\n",
    "    \n",
    "    data = go.Data([go.Scattermapbox(lat=lat, lon=lon, mode='markers')])\n",
    "    layout = go.Layout(\n",
    "        height=1100, width=1100, autosize=False, hovermode=False,\n",
    "        margin=go.Margin(l=0, r=0, b=0, t=0, pad=0),\n",
    "        mapbox=dict(\n",
    "            layers=[{\n",
    "                'source': f'https://raw.githubusercontent.com/theianchan/ge14-map/master/data/ge-{str(year)}-{coal.lower()}-{key}.geojson',\n",
    "                'sourcetype': 'geojson',\n",
    "                'type': 'fill',\n",
    "                'color': coal_colors[coal]\n",
    "            } for coal in coals],\n",
    "            accesstoken=mapbox_access_token,\n",
    "            bearing=0,\n",
    "            center=dict(lat=lat, lon=lon),\n",
    "            zoom=zoom,\n",
    "            style='light',\n",
    "            pitch=0\n",
    "        )\n",
    "    )\n",
    "    return data, layout"
   ]
  },
  {
   "cell_type": "code",
   "execution_count": 17,
   "metadata": {},
   "outputs": [
    {
     "ename": "PlotlyRequestError",
     "evalue": "Hi there, you've reached the threshold of 100 combined image exports and chart saves per day. If you need to raise your daily limit, consider upgrading to a Student or Personal Plan\nsee: https://plot.ly/products/cloud",
     "output_type": "error",
     "traceback": [
      "\u001b[0;31m---------------------------------------------------------------------------\u001b[0m",
      "\u001b[0;31mPlotlyRequestError\u001b[0m                        Traceback (most recent call last)",
      "\u001b[0;32m<ipython-input-17-76b30ee31f1f>\u001b[0m in \u001b[0;36m<module>\u001b[0;34m()\u001b[0m\n\u001b[0;32m----> 1\u001b[0;31m \u001b[0mpy\u001b[0m\u001b[0;34m.\u001b[0m\u001b[0miplot\u001b[0m\u001b[0;34m(\u001b[0m\u001b[0mget_map\u001b[0m\u001b[0;34m(\u001b[0m\u001b[0;36m2018\u001b[0m\u001b[0;34m,\u001b[0m \u001b[0;34m'malaysia'\u001b[0m\u001b[0;34m)\u001b[0m\u001b[0;34m,\u001b[0m \u001b[0mfilename\u001b[0m\u001b[0;34m=\u001b[0m\u001b[0;34m'ge-2018-malaysia'\u001b[0m\u001b[0;34m)\u001b[0m\u001b[0;34m\u001b[0m\u001b[0m\n\u001b[0m",
      "\u001b[0;32m<ipython-input-9-1c1bdf30d098>\u001b[0m in \u001b[0;36mget_map\u001b[0;34m(year, area, display, save)\u001b[0m\n\u001b[1;32m      3\u001b[0m     \u001b[0;32mif\u001b[0m \u001b[0msave\u001b[0m\u001b[0;34m:\u001b[0m\u001b[0;34m\u001b[0m\u001b[0m\n\u001b[1;32m      4\u001b[0m         \u001b[0mfname\u001b[0m \u001b[0;34m=\u001b[0m \u001b[0;34mf'maps/ge-{str(year)}-{str(area)}.png'\u001b[0m\u001b[0;34m\u001b[0m\u001b[0m\n\u001b[0;32m----> 5\u001b[0;31m         \u001b[0mpy\u001b[0m\u001b[0;34m.\u001b[0m\u001b[0mimage\u001b[0m\u001b[0;34m.\u001b[0m\u001b[0msave_as\u001b[0m\u001b[0;34m(\u001b[0m\u001b[0mgo\u001b[0m\u001b[0;34m.\u001b[0m\u001b[0mFigure\u001b[0m\u001b[0;34m(\u001b[0m\u001b[0mdata\u001b[0m\u001b[0;34m=\u001b[0m\u001b[0mdata\u001b[0m\u001b[0;34m,\u001b[0m \u001b[0mlayout\u001b[0m\u001b[0;34m=\u001b[0m\u001b[0mlayout\u001b[0m\u001b[0;34m)\u001b[0m\u001b[0;34m,\u001b[0m \u001b[0mfilename\u001b[0m\u001b[0;34m=\u001b[0m\u001b[0mfname\u001b[0m\u001b[0;34m)\u001b[0m\u001b[0;34m\u001b[0m\u001b[0m\n\u001b[0m\u001b[1;32m      6\u001b[0m         \u001b[0mprint\u001b[0m\u001b[0;34m(\u001b[0m\u001b[0;34mf'Saved {fname}.'\u001b[0m\u001b[0;34m)\u001b[0m\u001b[0;34m\u001b[0m\u001b[0m\n\u001b[1;32m      7\u001b[0m     \u001b[0;32mif\u001b[0m \u001b[0mdisplay\u001b[0m\u001b[0;34m:\u001b[0m\u001b[0;34m\u001b[0m\u001b[0m\n",
      "\u001b[0;32m~/.virtualenvs/ge14/lib/python3.6/site-packages/plotly/plotly/plotly.py\u001b[0m in \u001b[0;36msave_as\u001b[0;34m(cls, figure_or_data, filename, format, width, height, scale)\u001b[0m\n\u001b[1;32m    835\u001b[0m             \u001b[0mfilename\u001b[0m \u001b[0;34m+=\u001b[0m \u001b[0;34m'.'\u001b[0m \u001b[0;34m+\u001b[0m \u001b[0mformat\u001b[0m\u001b[0;34m\u001b[0m\u001b[0m\n\u001b[1;32m    836\u001b[0m \u001b[0;34m\u001b[0m\u001b[0m\n\u001b[0;32m--> 837\u001b[0;31m         \u001b[0mimg\u001b[0m \u001b[0;34m=\u001b[0m \u001b[0mcls\u001b[0m\u001b[0;34m.\u001b[0m\u001b[0mget\u001b[0m\u001b[0;34m(\u001b[0m\u001b[0mfigure_or_data\u001b[0m\u001b[0;34m,\u001b[0m \u001b[0mformat\u001b[0m\u001b[0;34m,\u001b[0m \u001b[0mwidth\u001b[0m\u001b[0;34m,\u001b[0m \u001b[0mheight\u001b[0m\u001b[0;34m,\u001b[0m \u001b[0mscale\u001b[0m\u001b[0;34m)\u001b[0m\u001b[0;34m\u001b[0m\u001b[0m\n\u001b[0m\u001b[1;32m    838\u001b[0m \u001b[0;34m\u001b[0m\u001b[0m\n\u001b[1;32m    839\u001b[0m         \u001b[0mf\u001b[0m \u001b[0;34m=\u001b[0m \u001b[0mopen\u001b[0m\u001b[0;34m(\u001b[0m\u001b[0mfilename\u001b[0m\u001b[0;34m,\u001b[0m \u001b[0;34m'wb'\u001b[0m\u001b[0;34m)\u001b[0m\u001b[0;34m\u001b[0m\u001b[0m\n",
      "\u001b[0;32m~/.virtualenvs/ge14/lib/python3.6/site-packages/plotly/plotly/plotly.py\u001b[0m in \u001b[0;36mget\u001b[0;34m(figure_or_data, format, width, height, scale)\u001b[0m\n\u001b[1;32m    748\u001b[0m             \u001b[0mpayload\u001b[0m\u001b[0;34m[\u001b[0m\u001b[0;34m'scale'\u001b[0m\u001b[0;34m]\u001b[0m \u001b[0;34m=\u001b[0m \u001b[0mscale\u001b[0m\u001b[0;34m\u001b[0m\u001b[0m\n\u001b[1;32m    749\u001b[0m \u001b[0;34m\u001b[0m\u001b[0m\n\u001b[0;32m--> 750\u001b[0;31m         \u001b[0mresponse\u001b[0m \u001b[0;34m=\u001b[0m \u001b[0mv2\u001b[0m\u001b[0;34m.\u001b[0m\u001b[0mimages\u001b[0m\u001b[0;34m.\u001b[0m\u001b[0mcreate\u001b[0m\u001b[0;34m(\u001b[0m\u001b[0mpayload\u001b[0m\u001b[0;34m)\u001b[0m\u001b[0;34m\u001b[0m\u001b[0m\n\u001b[0m\u001b[1;32m    751\u001b[0m \u001b[0;34m\u001b[0m\u001b[0m\n\u001b[1;32m    752\u001b[0m         \u001b[0mheaders\u001b[0m \u001b[0;34m=\u001b[0m \u001b[0mresponse\u001b[0m\u001b[0;34m.\u001b[0m\u001b[0mheaders\u001b[0m\u001b[0;34m\u001b[0m\u001b[0m\n",
      "\u001b[0;32m~/.virtualenvs/ge14/lib/python3.6/site-packages/plotly/api/v2/images.py\u001b[0m in \u001b[0;36mcreate\u001b[0;34m(body)\u001b[0m\n\u001b[1;32m     16\u001b[0m     \"\"\"\n\u001b[1;32m     17\u001b[0m     \u001b[0murl\u001b[0m \u001b[0;34m=\u001b[0m \u001b[0mbuild_url\u001b[0m\u001b[0;34m(\u001b[0m\u001b[0mRESOURCE\u001b[0m\u001b[0;34m)\u001b[0m\u001b[0;34m\u001b[0m\u001b[0m\n\u001b[0;32m---> 18\u001b[0;31m     \u001b[0;32mreturn\u001b[0m \u001b[0mrequest\u001b[0m\u001b[0;34m(\u001b[0m\u001b[0;34m'post'\u001b[0m\u001b[0;34m,\u001b[0m \u001b[0murl\u001b[0m\u001b[0;34m,\u001b[0m \u001b[0mjson\u001b[0m\u001b[0;34m=\u001b[0m\u001b[0mbody\u001b[0m\u001b[0;34m)\u001b[0m\u001b[0;34m\u001b[0m\u001b[0m\n\u001b[0m",
      "\u001b[0;32m~/.virtualenvs/ge14/lib/python3.6/site-packages/plotly/api/v2/utils.py\u001b[0m in \u001b[0;36mrequest\u001b[0;34m(method, url, **kwargs)\u001b[0m\n\u001b[1;32m    151\u001b[0m         \u001b[0mcontent\u001b[0m \u001b[0;34m=\u001b[0m \u001b[0mresponse\u001b[0m\u001b[0;34m.\u001b[0m\u001b[0mcontent\u001b[0m \u001b[0;32mif\u001b[0m \u001b[0mresponse\u001b[0m \u001b[0;32melse\u001b[0m \u001b[0;34m'No content'\u001b[0m\u001b[0;34m\u001b[0m\u001b[0m\n\u001b[1;32m    152\u001b[0m         \u001b[0;32mraise\u001b[0m \u001b[0mexceptions\u001b[0m\u001b[0;34m.\u001b[0m\u001b[0mPlotlyRequestError\u001b[0m\u001b[0;34m(\u001b[0m\u001b[0mmessage\u001b[0m\u001b[0;34m,\u001b[0m \u001b[0mstatus_code\u001b[0m\u001b[0;34m,\u001b[0m \u001b[0mcontent\u001b[0m\u001b[0;34m)\u001b[0m\u001b[0;34m\u001b[0m\u001b[0m\n\u001b[0;32m--> 153\u001b[0;31m     \u001b[0mvalidate_response\u001b[0m\u001b[0;34m(\u001b[0m\u001b[0mresponse\u001b[0m\u001b[0;34m)\u001b[0m\u001b[0;34m\u001b[0m\u001b[0m\n\u001b[0m\u001b[1;32m    154\u001b[0m     \u001b[0;32mreturn\u001b[0m \u001b[0mresponse\u001b[0m\u001b[0;34m\u001b[0m\u001b[0m\n",
      "\u001b[0;32m~/.virtualenvs/ge14/lib/python3.6/site-packages/plotly/api/v2/utils.py\u001b[0m in \u001b[0;36mvalidate_response\u001b[0;34m(response)\u001b[0m\n\u001b[1;32m     77\u001b[0m         \u001b[0mmessage\u001b[0m \u001b[0;34m=\u001b[0m \u001b[0mcontent\u001b[0m \u001b[0;32mif\u001b[0m \u001b[0mcontent\u001b[0m \u001b[0;32melse\u001b[0m \u001b[0;34m'No Content'\u001b[0m\u001b[0;34m\u001b[0m\u001b[0m\n\u001b[1;32m     78\u001b[0m \u001b[0;34m\u001b[0m\u001b[0m\n\u001b[0;32m---> 79\u001b[0;31m     \u001b[0;32mraise\u001b[0m \u001b[0mexceptions\u001b[0m\u001b[0;34m.\u001b[0m\u001b[0mPlotlyRequestError\u001b[0m\u001b[0;34m(\u001b[0m\u001b[0mmessage\u001b[0m\u001b[0;34m,\u001b[0m \u001b[0mstatus_code\u001b[0m\u001b[0;34m,\u001b[0m \u001b[0mcontent\u001b[0m\u001b[0;34m)\u001b[0m\u001b[0;34m\u001b[0m\u001b[0m\n\u001b[0m\u001b[1;32m     80\u001b[0m \u001b[0;34m\u001b[0m\u001b[0m\n\u001b[1;32m     81\u001b[0m \u001b[0;34m\u001b[0m\u001b[0m\n",
      "\u001b[0;31mPlotlyRequestError\u001b[0m: Hi there, you've reached the threshold of 100 combined image exports and chart saves per day. If you need to raise your daily limit, consider upgrading to a Student or Personal Plan\nsee: https://plot.ly/products/cloud"
     ]
    }
   ],
   "source": [
    "py.iplot(get_map(2018, 'malaysia'), filename='ge-2018-malaysia')"
   ]
  },
  {
   "cell_type": "code",
   "execution_count": 9,
   "metadata": {},
   "outputs": [],
   "source": [
    "def get_map(year, area, display=True, save=True):\n",
    "    data, layout = map_data_layout(year, area)\n",
    "    if save:\n",
    "        fname = f'maps/ge-{str(year)}-{str(area)}.png'\n",
    "        py.image.save_as(go.Figure(data=data, layout=layout), filename=fname)\n",
    "        print(f'Saved {fname}.')\n",
    "    if display:\n",
    "        return dict(data=data, layout=layout)"
   ]
  },
  {
   "cell_type": "code",
   "execution_count": 10,
   "metadata": {},
   "outputs": [],
   "source": [
    "geo = dict(\n",
    "    malaysia=dict(\n",
    "        lat=4.127928, lon=110.120693, zoom=4.8),\n",
    "    west_malaysia=dict(\n",
    "        lat=4.127928, lon=101.709438, zoom=6.0),\n",
    "#     perlis=dict(\n",
    "#         lat=6.490206, lon=100.105001, zoom=2.0),\n",
    "#     kedah=dict(\n",
    "#         lat=5.810463, lon=99.8142927, zoom=2.0),\n",
    "#     kelantan = dict(\n",
    "#         lat=5.395310, lon=101.439472, zoom=2.0),\n",
    "#     terengganu = dict(\n",
    "#         lat=4.922274, lon=102.474374, zoom=2.0),\n",
    "#     penang = dict(\n",
    "#         lat=5.353988, lon=100.222916, zoom=2.0),\n",
    "#     perak = dict(\n",
    "#         lat=4.800220, lon=99.9356662, zoom=2.0),\n",
    "#     pahang = dict(\n",
    "#         lat=3.618645, lon=101.656548, zoom=2.0),\n",
    "#     selangor = dict(\n",
    "#         lat=3.232068, lon=100.820492, zoom=2.0),\n",
    "#     wp_kuala_lumpur = dict(\n",
    "#         lat=3.138503, lon=101.616949, zoom=2.0),\n",
    "#     wp_putrajaya = dict(\n",
    "#         lat=2.926361, lon=101.661425, zoom=2.0),\n",
    "#     negeri_sembilan = dict(\n",
    "#         lat=2.839789, lon=101.921915, zoom=2.0),\n",
    "#     melaka = dict(\n",
    "#         lat=2.237377, lon=102.181463, zoom=2.0),\n",
    "#     johor = dict(\n",
    "#         lat=2.049175, lon=102.949493, zoom=2.0),\n",
    "#     wp_labuan = dict(\n",
    "#         lat=5.316768, lon=115.142799, zoom=2.0),\n",
    "#     sabah = dict(\n",
    "#         lat=5.738876, lon=116.183216, zoom=2.0),\n",
    "#     sarawak = dict(\n",
    "#         lat=2.915459, lon=110.363620, zoom=2.0)\n",
    ")"
   ]
  },
  {
   "cell_type": "markdown",
   "metadata": {},
   "source": [
    "# Get correct zoom"
   ]
  },
  {
   "cell_type": "code",
   "execution_count": null,
   "metadata": {},
   "outputs": [],
   "source": [
    "py.iplot(get_map(2018, 'malaysia'), filename='ge-2018-malaysia')"
   ]
  },
  {
   "cell_type": "code",
   "execution_count": null,
   "metadata": {},
   "outputs": [],
   "source": [
    "py.iplot(get_map(2018, 'perlis'), filename='ge-2018-perlis')"
   ]
  },
  {
   "cell_type": "markdown",
   "metadata": {},
   "source": [
    "# Create maps"
   ]
  },
  {
   "cell_type": "code",
   "execution_count": null,
   "metadata": {},
   "outputs": [],
   "source": [
    "for g in geo:\n",
    "    for year in years:\n",
    "        get_map(year, g, display=False)"
   ]
  },
  {
   "cell_type": "markdown",
   "metadata": {},
   "source": [
    "## Process images and create GIFs"
   ]
  },
  {
   "cell_type": "code",
   "execution_count": 65,
   "metadata": {},
   "outputs": [],
   "source": [
    "font_heading = ImageFont.truetype('fonts/Lato-Bold.ttf', 60)\n",
    "font_paragraph = ImageFont.truetype('fonts/Lato-Regular.ttf', 24)\n",
    "font_color_dark = (34, 34, 34)"
   ]
  },
  {
   "cell_type": "code",
   "execution_count": 66,
   "metadata": {},
   "outputs": [],
   "source": [
    "x_lm = 40\n",
    "y_tm = 40\n",
    "y_cp = 40 + 84\n",
    "\n",
    "y_bn = 904\n",
    "y_ph = 904 + 42\n",
    "y_gs = 904 + 42 + 42\n",
    "y_ot = 904 + 42 + 42 + 42\n",
    "\n",
    "x_ch = 287\n",
    "h_ch = 30\n",
    "\n",
    "c_bn = (9, 39, 129)\n",
    "c_ph = (237, 28, 36)\n",
    "c_gs = (0, 136, 0)\n",
    "c_ot = (26, 26, 26)"
   ]
  },
  {
   "cell_type": "code",
   "execution_count": 67,
   "metadata": {},
   "outputs": [],
   "source": [
    "def num_seats_won(year, coalition):\n",
    "    return ge[(ge['year'] == year) & (ge['coalition'] == coalition)]['winlose'].sum()"
   ]
  },
  {
   "cell_type": "code",
   "execution_count": 68,
   "metadata": {},
   "outputs": [
    {
     "name": "stdout",
     "output_type": "stream",
     "text": [
      "Saved frames/ge-2004-malaysia.png.\n",
      "Saved frames/ge-2008-malaysia.png.\n",
      "Saved frames/ge-2013-malaysia.png.\n",
      "Saved frames/ge-2018-malaysia.png.\n",
      "Saved frames/ge-2004-west_malaysia.png.\n",
      "Saved frames/ge-2008-west_malaysia.png.\n",
      "Saved frames/ge-2013-west_malaysia.png.\n",
      "Saved frames/ge-2018-west_malaysia.png.\n"
     ]
    }
   ],
   "source": [
    "for g in geo:\n",
    "    for year in years:\n",
    "        img = Image.open('maps/preview-blank.png')\n",
    "        draw = ImageDraw.Draw(img)\n",
    "        draw.text((x_lm, y_tm), 'GE 14 (WP Wilayah Persekutuan)', font_color_dark, font_heading)\n",
    "        draw.text((x_lm, y_cp), 'Created for datatarik.com', font_color_dark, font_paragraph)\n",
    "\n",
    "        seats = num_seats_won(year, 'BN')\n",
    "        draw.text((x_lm, y_bn), 'Barisan National', font_color_dark, font_paragraph)\n",
    "        draw.rectangle([(x_ch, y_bn), (x_ch + seats * 3, y_bn + h_ch)], fill=c_bn)\n",
    "        draw.text((x_ch + seats * 3 + 12, y_bn), str(seats), font_color_dark, font_paragraph)\n",
    "\n",
    "        seats = num_seats_won(year, 'Pakatan')\n",
    "        draw.text((x_lm, y_ph), 'Pakatan Harapan', font_color_dark, font_paragraph)\n",
    "        draw.rectangle([(x_ch, y_ph), (x_ch + seats * 3, y_ph + h_ch)], fill=c_ph)\n",
    "        draw.text((x_ch + seats * 3 + 12, y_ph), str(seats), font_color_dark, font_paragraph)\n",
    "\n",
    "        seats = num_seats_won(year, 'PAS')\n",
    "        draw.text((x_lm, y_gs), 'Gagasan Sejahtera', font_color_dark, font_paragraph)\n",
    "        draw.rectangle([(x_ch, y_gs), (x_ch + seats * 3, y_gs + h_ch)], fill=c_gs)\n",
    "        draw.text((x_ch + seats * 3 + 12, y_gs), str(seats), font_color_dark, font_paragraph)\n",
    "\n",
    "        seats = num_seats_won(year, 'Unaffiliated')\n",
    "        draw.text((x_lm, y_ot), 'Unaffiliated (Other)', font_color_dark, font_paragraph)\n",
    "        draw.rectangle([(x_ch, y_ot), (x_ch + seats * 3, y_ot + h_ch)], fill=c_ot)\n",
    "        draw.text((x_ch + seats * 3 + 12, y_ot), str(seats), font_color_dark, font_paragraph)\n",
    "\n",
    "        fname = f'frames/ge-{str(year)}-{g}.png'\n",
    "        img.save(fname)\n",
    "        print(f'Saved {fname}.')"
   ]
  },
  {
   "cell_type": "code",
   "execution_count": 69,
   "metadata": {},
   "outputs": [
    {
     "name": "stdout",
     "output_type": "stream",
     "text": [
      "Saved gifs/ge-malaysia.gif.\n",
      "Saved gifs/ge-west_malaysia.gif.\n"
     ]
    }
   ],
   "source": [
    "for g in geo:\n",
    "    frames = []\n",
    "    for year in years:\n",
    "        frames.append(imageio.imread(f'frames/ge-{str(year)}-{str(g)}.png'))\n",
    "    fname = f'gifs/ge-{str(g)}.gif'\n",
    "    imageio.mimwrite(fname, frames, 'GIF', duration=2)\n",
    "    print(f'Saved {fname}.')"
   ]
  }
 ],
 "metadata": {
  "kernelspec": {
   "display_name": "Python (GE14)",
   "language": "python",
   "name": "ge14"
  },
  "language_info": {
   "codemirror_mode": {
    "name": "ipython",
    "version": 3
   },
   "file_extension": ".py",
   "mimetype": "text/x-python",
   "name": "python",
   "nbconvert_exporter": "python",
   "pygments_lexer": "ipython3",
   "version": "3.6.4"
  }
 },
 "nbformat": 4,
 "nbformat_minor": 2
}
