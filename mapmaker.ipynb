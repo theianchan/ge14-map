{
 "cells": [
  {
   "cell_type": "markdown",
   "metadata": {},
   "source": [
    "Remaining TODO:\n",
    "\n",
    "1. Determine correct `zoom` values for each state\n",
    "2. Run GIFmaker for all"
   ]
  },
  {
   "cell_type": "code",
   "execution_count": null,
   "metadata": {},
   "outputs": [],
   "source": [
    "%matplotlib inline\n",
    "\n",
    "import numpy as np\n",
    "import pandas as pd\n",
    "import config\n",
    "import imageio\n",
    "\n",
    "import plotly\n",
    "import plotly.plotly as py\n",
    "import plotly.graph_objs as go\n",
    "\n",
    "from PIL import Image, ImageFont, ImageDraw"
   ]
  },
  {
   "cell_type": "code",
   "execution_count": null,
   "metadata": {},
   "outputs": [],
   "source": [
    "mapbox_access_token = config.mapbox_access_token\n",
    "plotly.tools.set_credentials_file(username=config.plotly_username, api_key=config.plotly_api_key)"
   ]
  },
  {
   "cell_type": "code",
   "execution_count": null,
   "metadata": {},
   "outputs": [],
   "source": [
    "ge = pd.read_csv(\"data/election-data-2004-2018.csv\")"
   ]
  },
  {
   "cell_type": "markdown",
   "metadata": {},
   "source": [
    "Same changes as in `explorer.ipynb`."
   ]
  },
  {
   "cell_type": "code",
   "execution_count": null,
   "metadata": {},
   "outputs": [],
   "source": [
    "ge.at[849, \"winlose\"] = 0\n",
    "ge[\"coalition\"].fillna(\"Unaffiliated\", inplace=True)"
   ]
  },
  {
   "cell_type": "code",
   "execution_count": null,
   "metadata": {},
   "outputs": [],
   "source": [
    "years = ge[\"year\"].unique()\n",
    "coals = ge[\"coalition\"].unique()\n",
    "states = ge[\"state\"].unique()"
   ]
  },
  {
   "cell_type": "code",
   "execution_count": null,
   "metadata": {},
   "outputs": [],
   "source": [
    "coal_colors = dict(\n",
    "    BN=\"rgba(9, 39, 129, 0.5)\", \n",
    "    Pakatan=\"rgba(237, 28, 36, 0.5)\", \n",
    "    PAS=\"rgba(0, 136, 0, 0.5)\",\n",
    "    Unaffiliated=\"rgba(26, 26, 26, 0.5)\"\n",
    ")"
   ]
  },
  {
   "cell_type": "code",
   "execution_count": null,
   "metadata": {},
   "outputs": [],
   "source": [
    "def map_data_layout(year, area):    \n",
    "    lat = geo[area][\"lat\"]\n",
    "    lon = geo[area][\"lon\"]\n",
    "    key = \"malaysia\" if (area is \"west_malaysia\") else str(area)\n",
    "    zoom = geo[area][\"zoom\"]\n",
    "    \n",
    "    data = go.Data([go.Scattermapbox(lat=lat, lon=lon, mode=\"markers\")])\n",
    "    layout = go.Layout(\n",
    "        height=1100, width=1100, autosize=False, hovermode=False,\n",
    "        margin=go.Margin(l=0, r=0, b=0, t=0, pad=0),\n",
    "        mapbox=dict(\n",
    "            layers=[{\n",
    "                \"source\": f\"https://raw.githubusercontent.com/theianchan/ge14-map/master/data/ge-{str(year)}-{coal.lower()}-{key}.geojson\",\n",
    "                \"sourcetype\": \"geojson\",\n",
    "                \"type\": \"fill\",\n",
    "                \"color\": coal_colors[coal]\n",
    "            } for coal in coals],\n",
    "            accesstoken=mapbox_access_token,\n",
    "            bearing=0,\n",
    "            center=dict(lat=lat, lon=lon),\n",
    "            zoom=zoom,\n",
    "            style=\"light\",\n",
    "            pitch=0\n",
    "        )\n",
    "    )\n",
    "    return data, layout"
   ]
  },
  {
   "cell_type": "code",
   "execution_count": null,
   "metadata": {},
   "outputs": [],
   "source": [
    "def get_map(year, area, display=True, save=True):\n",
    "    data, layout = map_data_layout(year, area)\n",
    "    if save:\n",
    "        fname = f\"maps/ge-{str(year)}-{str(area)}.png\"\n",
    "        py.image.save_as(go.Figure(data=data, layout=layout), filename=fname)\n",
    "        print(f\"Saved {fname}\")\n",
    "    if display:\n",
    "        return dict(data=data, layout=layout)"
   ]
  },
  {
   "cell_type": "markdown",
   "metadata": {},
   "source": [
    "1. Double check Pahang, Selangor\n",
    "2. Include Putrajaya in KL\n",
    "3. Create composite for Sabah + Sarawak + Labuan ???"
   ]
  },
  {
   "cell_type": "code",
   "execution_count": null,
   "metadata": {},
   "outputs": [],
   "source": [
    "geo = dict(\n",
    "    malaysia=dict(\n",
    "        lat=4.213794, lon=109.397091, zoom=5.00),\n",
    "    west_malaysia=dict(\n",
    "        lat=3.950791, lon=101.992306, zoom=6.00),\n",
    "    perlis=dict(\n",
    "        lat=6.486549, lon=100.260023, zoom=10.00),\n",
    "    kedah=dict(\n",
    "        lat=5.798265, lon=100.620284, zoom=8.00),\n",
    "    kelantan = dict(\n",
    "        lat=5.448893, lon=102.073530, zoom=8.00),\n",
    "    terengganu = dict(\n",
    "        lat=4.904895, lon=103.031562, zoom=8.00),\n",
    "    penang = dict(\n",
    "        lat=5.352609, lon=100.345081, zoom=10.00),\n",
    "    perak = dict(\n",
    "        lat=4.791387, lon=100.927375, zoom=8.00),\n",
    "    pahang = dict(\n",
    "        lat=3.615012, lon=102.664301, zoom=7.80),\n",
    "    selangor = dict(\n",
    "        lat=3.180396, lon=101.418123, zoom=9.00),\n",
    "    wp_kuala_lumpur = dict(\n",
    "        lat=3.130236, lon=101.687618, zoom=11.00),\n",
    "#     wp_putrajaya = dict(\n",
    "#         lat=2.923853, lon=101.701562, zoom=12.00),\n",
    "    negeri_sembilan = dict(\n",
    "        lat=2.793770, lon=102.230789, zoom=9.00),\n",
    "    melaka = dict(\n",
    "        lat=2.243490, lon=102.252917, zoom=10.00),\n",
    "    johor = dict(\n",
    "        lat=2.000979, lon=103.329079, zoom=8.00),\n",
    "#     wp_labuan = dict(\n",
    "#         lat=5.280000, lon=115.240000, zoom=11.00),\n",
    "#     sabah = dict(\n",
    "#         lat=5.805978, lon=117.212464, zoom=7.00),\n",
    "#     sarawak = dict(\n",
    "#         lat=2.953408, lon=113.444924, zoom=7.00)\n",
    ")"
   ]
  },
  {
   "cell_type": "markdown",
   "metadata": {},
   "source": [
    "### Preview maps"
   ]
  },
  {
   "cell_type": "code",
   "execution_count": null,
   "metadata": {},
   "outputs": [],
   "source": [
    "# py.iplot(get_map(2018, \"melaka\"), filename=\"ge-2018-melaka\")"
   ]
  },
  {
   "cell_type": "markdown",
   "metadata": {},
   "source": [
    "### Create maps"
   ]
  },
  {
   "cell_type": "code",
   "execution_count": null,
   "metadata": {},
   "outputs": [],
   "source": [
    "for g in geo:\n",
    "    for year in years:\n",
    "        get_map(year, g, display=False)"
   ]
  },
  {
   "cell_type": "markdown",
   "metadata": {},
   "source": [
    "## Process images and create GIFs"
   ]
  },
  {
   "cell_type": "code",
   "execution_count": null,
   "metadata": {},
   "outputs": [],
   "source": [
    "font_heading = ImageFont.truetype(\"fonts/Lato-Bold.ttf\", 60)\n",
    "font_paragraph = ImageFont.truetype(\"fonts/Lato-Regular.ttf\", 24)\n",
    "font_color_dark = (34, 34, 34)"
   ]
  },
  {
   "cell_type": "code",
   "execution_count": null,
   "metadata": {},
   "outputs": [],
   "source": [
    "x_lm = 40\n",
    "y_tm = 40\n",
    "y_cp = 40 + 84\n",
    "\n",
    "y_bn = 904\n",
    "y_ph = 904 + 42\n",
    "y_gs = 904 + 42 + 42\n",
    "y_ot = 904 + 42 + 42 + 42\n",
    "\n",
    "x_ch = 287\n",
    "h_ch = 30\n",
    "\n",
    "c_bn = (9, 39, 129)\n",
    "c_ph = (237, 28, 36)\n",
    "c_gs = (0, 136, 0)\n",
    "c_ot = (26, 26, 26)"
   ]
  },
  {
   "cell_type": "code",
   "execution_count": null,
   "metadata": {},
   "outputs": [],
   "source": [
    "def num_seats_won(year, coalition, area):\n",
    "    seats = ge[(ge[\"year\"] == year) & (ge[\"coalition\"] == coalition)]\n",
    "    if ((area is \"malaysia\") or (area is \"west_malaysia\")):\n",
    "        return seats[\"winlose\"].sum()\n",
    "    return seats[seats[\"state\"].apply(lambda x: x.lower().replace(\" \", \"_\")) == area][\"winlose\"].sum()"
   ]
  },
  {
   "cell_type": "code",
   "execution_count": null,
   "metadata": {},
   "outputs": [],
   "source": [
    "years"
   ]
  },
  {
   "cell_type": "code",
   "execution_count": null,
   "metadata": {},
   "outputs": [],
   "source": [
    "elections = {\n",
    "    2004: \"GE11\",\n",
    "    2008: \"GE12\",\n",
    "    2013: \"GE13\",\n",
    "    2018: \"GE14\"\n",
    "}"
   ]
  },
  {
   "cell_type": "code",
   "execution_count": null,
   "metadata": {},
   "outputs": [],
   "source": [
    "for g in geo:\n",
    "    for year in years:\n",
    "        img = Image.open(f\"maps/ge-{str(year)}-{str(g)}.png\")\n",
    "        draw = ImageDraw.Draw(img)\n",
    "        draw.text((x_lm, y_tm), f\"{elections[year]} ({g.title().replace('_', ' ').replace('Wp', 'WP')})\", font_color_dark, font_heading)\n",
    "        draw.text((x_lm, y_cp), \"Created for datatarik.com\", font_color_dark, font_paragraph)\n",
    "\n",
    "        seats = num_seats_won(year, \"BN\", g)\n",
    "        draw.text((x_lm, y_bn), \"Barisan National\", font_color_dark, font_paragraph)\n",
    "        draw.rectangle([(x_ch, y_bn), (x_ch + seats * 3, y_bn + h_ch)], fill=c_bn)\n",
    "        draw.text((x_ch + seats * 3 + 12, y_bn), str(seats), font_color_dark, font_paragraph)\n",
    "\n",
    "        seats = num_seats_won(year, \"Pakatan\", g)\n",
    "        draw.text((x_lm, y_ph), \"Pakatan Harapan\", font_color_dark, font_paragraph)\n",
    "        draw.rectangle([(x_ch, y_ph), (x_ch + seats * 3, y_ph + h_ch)], fill=c_ph)\n",
    "        draw.text((x_ch + seats * 3 + 12, y_ph), str(seats), font_color_dark, font_paragraph)\n",
    "\n",
    "        seats = num_seats_won(year, \"PAS\", g)\n",
    "        draw.text((x_lm, y_gs), \"Gagasan Sejahtera\", font_color_dark, font_paragraph)\n",
    "        draw.rectangle([(x_ch, y_gs), (x_ch + seats * 3, y_gs + h_ch)], fill=c_gs)\n",
    "        draw.text((x_ch + seats * 3 + 12, y_gs), str(seats), font_color_dark, font_paragraph)\n",
    "\n",
    "        seats = num_seats_won(year, \"Unaffiliated\", g)\n",
    "        draw.text((x_lm, y_ot), \"Unaffiliated (Other)\", font_color_dark, font_paragraph)\n",
    "        draw.rectangle([(x_ch, y_ot), (x_ch + seats * 3, y_ot + h_ch)], fill=c_ot)\n",
    "        draw.text((x_ch + seats * 3 + 12, y_ot), str(seats), font_color_dark, font_paragraph)\n",
    "\n",
    "        fname = f\"frames/ge-{str(year)}-{g}.png\"\n",
    "        img.save(fname)\n",
    "        print(f\"Saved {fname}\")"
   ]
  },
  {
   "cell_type": "code",
   "execution_count": null,
   "metadata": {},
   "outputs": [],
   "source": [
    "for g in geo:\n",
    "    frames = []\n",
    "    for year in years:\n",
    "        frames.append(imageio.imread(f\"frames/ge-{str(year)}-{str(g)}.png\"))\n",
    "    fname = f\"gifs/ge-{str(g)}.gif\"\n",
    "    imageio.mimwrite(fname, frames, \"GIF\", duration=2)\n",
    "    print(f\"Saved {fname}\")"
   ]
  }
 ],
 "metadata": {
  "kernelspec": {
   "display_name": "Python (GE14)",
   "language": "python",
   "name": "ge14"
  },
  "language_info": {
   "codemirror_mode": {
    "name": "ipython",
    "version": 3
   },
   "file_extension": ".py",
   "mimetype": "text/x-python",
   "name": "python",
   "nbconvert_exporter": "python",
   "pygments_lexer": "ipython3",
   "version": "3.6.5"
  }
 },
 "nbformat": 4,
 "nbformat_minor": 2
}
